{
  "nbformat": 4,
  "nbformat_minor": 0,
  "metadata": {
    "colab": {
      "name": "Untitled2.ipynb",
      "provenance": [],
      "collapsed_sections": [],
      "authorship_tag": "ABX9TyMib4nVq+uTbiEGYEs4TVd/",
      "include_colab_link": true
    },
    "kernelspec": {
      "name": "python3",
      "display_name": "Python 3"
    },
    "language_info": {
      "name": "python"
    }
  },
  "cells": [
    {
      "cell_type": "markdown",
      "metadata": {
        "id": "view-in-github",
        "colab_type": "text"
      },
      "source": [
        "<a href=\"https://colab.research.google.com/github/MubashirAli503/ultrasonic-sensor/blob/main/assignment%201.ipynb\" target=\"_parent\"><img src=\"https://colab.research.google.com/assets/colab-badge.svg\" alt=\"Open In Colab\"/></a>"
      ]
    },
    {
      "cell_type": "code",
      "execution_count": null,
      "metadata": {
        "colab": {
          "base_uri": "https://localhost:8080/"
        },
        "id": "FAFUD5lvaW-R",
        "outputId": "eee12ae5-4a01-4f4d-ee11-3abd88a96f58"
      },
      "outputs": [
        {
          "output_type": "stream",
          "name": "stdout",
          "text": [
            "abdullah\n",
            "bashir\n",
            "saeed\n",
            "tahir\n",
            "zubair\n"
          ]
        }
      ],
      "source": [
        "'''\n",
        "Name: Mubashir Ali \n",
        "Batch: 03 \n",
        "Sec: A \n",
        "'''\n",
        "#Print names one at a time.\n",
        "names=['abdullah','bashir','saeed','tahir','zubair']\n",
        "print(names[0])\n",
        "print(names[1])\n",
        "print(names[2])\n",
        "print(names[3])\n",
        "print(names[4])"
      ]
    },
    {
      "cell_type": "code",
      "source": [
        "#Greeting each person using concatination.\n",
        "names=['abdullah','bashir','saeed','tahir','zubair']\n",
        "print(\"Hello\",names[0]+\"!\")\n",
        "print(\"Hello\",names[1]+\"!\")\n",
        "print(\"Hello\",names[2]+\"!\")\n",
        "print(\"Hello\",names[3]+\"!\")\n",
        "print(\"Hello\",names[4]+\"!\")\n"
      ],
      "metadata": {
        "colab": {
          "base_uri": "https://localhost:8080/"
        },
        "id": "k9X-fA5sj3jq",
        "outputId": "73bd6c34-463e-4cde-f906-0ebb49a3ecea"
      },
      "execution_count": null,
      "outputs": [
        {
          "output_type": "stream",
          "name": "stdout",
          "text": [
            "Hello abdullah!\n",
            "Hello bashir!\n",
            "Hello saeed!\n",
            "Hello tahir!\n",
            "Hello zubair!\n"
          ]
        }
      ]
    },
    {
      "cell_type": "code",
      "source": [
        "#Making list of cars and printing statements about them.\n",
        "cars=['honda','bmw','lamborghini','tesla','rolls-royce']\n",
        "print(cars[0].capitalize(),\"cars are pretty popular in Pakistan.\")\n",
        "print(cars[1].upper(),\"is known for making luxurios vehicles.\")\n",
        "print(\"If you own a\",cars[2].capitalize()+\", then you are showing off.\")\n",
        "print(\"You don't have to drive\",cars[3].capitalize()+\", it can drive itself.\")\n",
        "print(\"You can't own a\",cars[4].title(),\"unless you belong to a royal family.\")"
      ],
      "metadata": {
        "colab": {
          "base_uri": "https://localhost:8080/"
        },
        "id": "cjUz3sDOmapr",
        "outputId": "926e07ab-d00b-48a9-8530-9435a340f163"
      },
      "execution_count": null,
      "outputs": [
        {
          "output_type": "stream",
          "name": "stdout",
          "text": [
            "Honda cars are pretty popular in Pakistan.\n",
            "BMW is known for making luxurios vehicles.\n",
            "If you own a Lamborghini, then you are showing off.\n",
            "you don't have to drive Tesla, it can drive itself.\n",
            "you can't own a Rolls-Royce unless you belong to a royal family.\n"
          ]
        }
      ]
    },
    {
      "cell_type": "code",
      "source": [
        "#Guest list.\n",
        "names=['abdullah','ayesha','saeed','tooba','zubair']\n",
        "print(\"Hello\",names[0].capitalize()+\", i would like to invite you to dinner.\")\n",
        "print(\"Hello\",names[1].capitalize()+\", i would like to invite you to dinner.\")\n",
        "print(\"Hello\",names[2].capitalize()+\", i would like to invite you to dinner.\")\n",
        "print(\"Hello\",names[3].capitalize()+\", i would like to invite you to dinner.\")\n",
        "print(\"Hello\",names[4].capitalize()+\", i would like to invite you to dinner.\")"
      ],
      "metadata": {
        "colab": {
          "base_uri": "https://localhost:8080/"
        },
        "id": "9menJpOcrdjn",
        "outputId": "4d70fdee-27a1-4434-f38e-a85b675d3ddc"
      },
      "execution_count": null,
      "outputs": [
        {
          "output_type": "stream",
          "name": "stdout",
          "text": [
            "Hello Abdullah, i would like to invite you to dinner.\n",
            "Hello Ayesha, i would like to invite you to dinner.\n",
            "Hello Saeed, i would like to invite you to dinner.\n",
            "Hello Tooba, i would like to invite you to dinner.\n",
            "Hello Zubair, i would like to invite you to dinner.\n"
          ]
        }
      ]
    },
    {
      "cell_type": "code",
      "source": [
        "#Changing guests list.\n",
        "names=['abdullah','ayesha','saeed']\n",
        "print(\"Hello\",names[0].capitalize()+\", i would like to invite you to dinner.\")\n",
        "print(\"Hello\",names[1].capitalize()+\", i would like to invite you to dinner.\")\n",
        "print(\"Hello\",names[2].capitalize()+\", i would like to invite you to dinner.\")\n",
        "print(names[1].capitalize(),\"can't make it to dinner.\")\n",
        "names.remove(\"ayesha\")\n",
        "names.insert (1,\"tooba\")\n",
        "print(\"Hello\",names[0].capitalize()+\", i would like to invite you to dinner.\")\n",
        "print(\"Hello\",names[1].capitalize()+\", i would like to invite you to dinner.\")\n",
        "print(\"Hello\",names[2].capitalize()+\", i would like to invite you to dinner.\")\n"
      ],
      "metadata": {
        "colab": {
          "base_uri": "https://localhost:8080/"
        },
        "id": "SgSXUHyOtoQG",
        "outputId": "f7f3d218-ec8d-482e-9c3c-253539953c41"
      },
      "execution_count": null,
      "outputs": [
        {
          "output_type": "stream",
          "name": "stdout",
          "text": [
            "Hello Abdullah, i would like to invite you to dinner.\n",
            "Hello Ayesha, i would like to invite you to dinner.\n",
            "Hello Saeed, i would like to invite you to dinner.\n",
            "Ayesha can't make it to dinner.\n",
            "Hello Abdullah, i would like to invite you to dinner.\n",
            "Hello Tooba, i would like to invite you to dinner.\n",
            "Hello Saeed, i would like to invite you to dinner.\n"
          ]
        }
      ]
    },
    {
      "cell_type": "code",
      "source": [
        "#More guests.\n",
        "names=['abdullah','ayesha','saeed']\n",
        "print(\"Hello\",names[0].capitalize()+\", i would like to invite you to dinner.\")\n",
        "print(\"Hello\",names[1].capitalize()+\", i would like to invite you to dinner.\")\n",
        "print(\"Hello\",names[2].capitalize()+\", i would like to invite you to dinner.\")\n",
        "print(\"\\n\"+names[1].capitalize(),\"can't make it to dinner.\\n\")\n",
        "names.remove(\"ayesha\")\n",
        "names.insert (1,\"tooba\")\n",
        "print(\"Hello\",names[0].capitalize()+\", i would like to invite you to dinner.\")\n",
        "print(\"Hello\",names[1].capitalize()+\", i would like to invite you to dinner.\")\n",
        "print(\"Hello\",names[2].capitalize()+\", i would like to invite you to dinner.\")\n",
        "print(\"\\nWe got a bigger table!\\n\")\n",
        "names.insert (0,\"amna\")\n",
        "names.insert (2,\"bushra\")\n",
        "names.append (\"zubair\")\n",
        "print(\"Hello\",names[0].capitalize()+\", i would like to invite you to dinner.\")\n",
        "print(\"Hello\",names[1].capitalize()+\", i would like to invite you to dinner.\")\n",
        "print(\"Hello\",names[2].capitalize()+\", i would like to invite you to dinner.\")\n",
        "print(\"Hello\",names[3].capitalize()+\", i would like to invite you to dinner.\")\n",
        "print(\"Hello\",names[4].capitalize()+\", i would like to invite you to dinner.\")\n",
        "print(\"Hello\",names[5].capitalize()+\", i would like to invite you to dinner.\")\n",
        "\n"
      ],
      "metadata": {
        "id": "l1iicorhzrE2"
      },
      "execution_count": null,
      "outputs": []
    },
    {
      "cell_type": "code",
      "source": [
        "#Task 4\n",
        "#Guest list.\n",
        "names=['abdullah','ayesha','saeed']\n",
        "print(\"Hello\",names[0].capitalize()+\", i would like to invite you to dinner.\")\n",
        "print(\"Hello\",names[1].capitalize()+\", i would like to invite you to dinner.\")\n",
        "print(\"Hello\",names[2].capitalize()+\", i would like to invite you to dinner.\")\n",
        "#Task 5\n",
        "print(\"\\n\"+names[1].capitalize(),\"can't make it to dinner.\\n\")\n",
        "#Replacing ayesha with tooba using remove and insert function.\n",
        "names.remove(\"ayesha\")\n",
        "names.insert (1,\"tooba\")\n",
        "print(\"Hello\",names[0].capitalize()+\", i would like to invite you to dinner.\")\n",
        "print(\"Hello\",names[1].capitalize()+\", i would like to invite you to dinner.\")\n",
        "print(\"Hello\",names[2].capitalize()+\", i would like to invite you to dinner.\")\n",
        "#Task 6\n",
        "#Inserting More guests using insert and append function.\n",
        "print(\"\\nWe got a bigger table!\\n\")\n",
        "names.insert (0,\"amna\")\n",
        "names.insert (2,\"bushra\")\n",
        "names.append (\"zubair\")\n",
        "print(\"Hello\",names[0].capitalize()+\", i would like to invite you to dinner.\")\n",
        "print(\"Hello\",names[1].capitalize()+\", i would like to invite you to dinner.\")\n",
        "print(\"Hello\",names[2].capitalize()+\", i would like to invite you to dinner.\")\n",
        "print(\"Hello\",names[3].capitalize()+\", i would like to invite you to dinner.\")\n",
        "print(\"Hello\",names[4].capitalize()+\", i would like to invite you to dinner.\")\n",
        "print(\"Hello\",names[5].capitalize()+\", i would like to invite you to dinner.\")\n",
        "#Task 7\n",
        "#Popping out guests using pop function.\n",
        "print(\"\\nSorry guys i can invite only two people.\\n\")\n",
        "name=names.pop()\n",
        "print(\"Sorry\",name.capitalize()+\", there is no room at the dinner table.\")\n",
        "name=names.pop()\n",
        "print(\"Sorry\",name.capitalize()+\", there is no room at the dinner table.\")\n",
        "name=names.pop()\n",
        "print(\"Sorry\",name.capitalize()+\", there is no room at the dinner table.\")\n",
        "name=names.pop()\n",
        "print(\"Sorry\",name.capitalize()+\", there is no room at the dinner table.\\n\")\n",
        "print(names[0].capitalize()+\", you are still invited to dinner.\")\n",
        "print(names[1].capitalize()+\", you are still invited to dinner. \")\n",
        "#Empty out the list using del function. \n",
        "del(names[0])\n",
        "del(names[0])\n",
        "print(names)"
      ],
      "metadata": {
        "colab": {
          "base_uri": "https://localhost:8080/"
        },
        "id": "nyIPz5EM3Hn4",
        "outputId": "068850e7-fb5e-4651-80d8-085e43d756b9"
      },
      "execution_count": null,
      "outputs": [
        {
          "output_type": "stream",
          "name": "stdout",
          "text": [
            "Hello Abdullah, i would like to invite you to dinner.\n",
            "Hello Ayesha, i would like to invite you to dinner.\n",
            "Hello Saeed, i would like to invite you to dinner.\n",
            "\n",
            "Ayesha can't make it to dinner.\n",
            "\n",
            "Hello Abdullah, i would like to invite you to dinner.\n",
            "Hello Tooba, i would like to invite you to dinner.\n",
            "Hello Saeed, i would like to invite you to dinner.\n",
            "\n",
            "We got a bigger table!\n",
            "\n",
            "Hello Amna, i would like to invite you to dinner.\n",
            "Hello Abdullah, i would like to invite you to dinner.\n",
            "Hello Bushra, i would like to invite you to dinner.\n",
            "Hello Tooba, i would like to invite you to dinner.\n",
            "Hello Saeed, i would like to invite you to dinner.\n",
            "Hello Zubair, i would like to invite you to dinner.\n",
            "\n",
            "Sorry guys i can invite only two people.\n",
            "\n",
            "Sorry Zubair, there is no room at the dinner table.\n",
            "Sorry Saeed, there is no room at the dinner table.\n",
            "Sorry Tooba, there is no room at the dinner table.\n",
            "Sorry Bushra, there is no room at the dinner table.\n",
            "\n",
            "Amna, you are still invited to dinner.\n",
            "Abdullah, you are still invited to dinner. \n",
            "[]\n"
          ]
        }
      ]
    },
    {
      "cell_type": "code",
      "source": [
        "#Seeing the world.\n",
        "places=['Zimbabve','Arizona','Malaysia','Newyork','Egypt']\n",
        "print('Original list\\n'+str(places))\n",
        "#Using sorted to sort list temporarily.\n",
        "print(\"\\nSorted list\\n\"+str(sorted(places)))\n",
        "print('\\nOriginal list\\n'+str(places))\n",
        "#Temporarily sorting listin reverse using sorted function.\n",
        "print('\\nReverse sorted list')\n",
        "print(sorted(places,reverse=True))\n",
        "print('\\nOriginal list\\n'+str(places))\n",
        "#Reversing list permenantly using reverse function.\n",
        "places.reverse()\n",
        "print('\\nReversed list\\n'+str(places))\n",
        "#Reversing list again.\n",
        "#places.reverse()\n",
        "print('\\nOriginal list\\n'+str(places))\n",
        "#Sorting list permenantly using sort function.\n",
        "places.sort()\n",
        "print('\\nSorted list\\n'+str(places))\n",
        "#Reverse sorting list permenently.\n",
        "places.sort(reverse=True)\n",
        "print('\\nSorted list\\n'+str(places))\n"
      ],
      "metadata": {
        "id": "yV_QsJx29AOs",
        "colab": {
          "base_uri": "https://localhost:8080/"
        },
        "outputId": "0e3e25da-e625-42bb-fb2e-9341b63ca191"
      },
      "execution_count": null,
      "outputs": [
        {
          "output_type": "stream",
          "name": "stdout",
          "text": [
            "Original list\n",
            "['Zimbabve', 'Arizona', 'Malaysia', 'Newyork', 'Egypt']\n",
            "\n",
            "Sorted list\n",
            "['Arizona', 'Egypt', 'Malaysia', 'Newyork', 'Zimbabve']\n",
            "\n",
            "Original list\n",
            "['Zimbabve', 'Arizona', 'Malaysia', 'Newyork', 'Egypt']\n",
            "\n",
            "Reverse sorted list\n",
            "['Zimbabve', 'Newyork', 'Malaysia', 'Egypt', 'Arizona']\n",
            "\n",
            "Original list\n",
            "['Zimbabve', 'Arizona', 'Malaysia', 'Newyork', 'Egypt']\n",
            "\n",
            "Reversed list\n",
            "['Egypt', 'Newyork', 'Malaysia', 'Arizona', 'Zimbabve']\n",
            "\n",
            "Original list\n",
            "['Egypt', 'Newyork', 'Malaysia', 'Arizona', 'Zimbabve']\n",
            "\n",
            "Sorted list\n",
            "['Arizona', 'Egypt', 'Malaysia', 'Newyork', 'Zimbabve']\n",
            "\n",
            "Sorted list\n",
            "['Zimbabve', 'Newyork', 'Malaysia', 'Egypt', 'Arizona']\n"
          ]
        }
      ]
    },
    {
      "cell_type": "code",
      "source": [
        "#Dinner guests\n",
        "names=['abdullah','ayesha','saeed','tooba','zubair']\n",
        "#Counting number of guests invited using len function\n",
        "print('Number of guests invited: '+str(len(names)))\n"
      ],
      "metadata": {
        "colab": {
          "base_uri": "https://localhost:8080/"
        },
        "id": "MkFVLUXykUkr",
        "outputId": "0c3e1be2-1bc9-49df-e0f4-f4345e68c5d0"
      },
      "execution_count": null,
      "outputs": [
        {
          "output_type": "stream",
          "name": "stdout",
          "text": [
            "Number of guests invited: 5\n"
          ]
        }
      ]
    },
    {
      "cell_type": "code",
      "source": [
        "#Every function \n",
        "x=[\"cat\",2.5,500,\"bmw\"]\n",
        "print(x)\n",
        "x[1]=\"dog\" # changing first element of x from 2.5 to dog\n",
        "print(x)\n",
        "\n",
        "bike=[\"honda\",\"yamaha\",\"suzuki\"]\n",
        "del bike[1] #deleting the value at index 1 from bike\n",
        "print(bike)\n",
        "\n",
        "x=[\"cat\",2.5,500,\"bmw\"]\n",
        "x.insert(1,\"dog\")#it inserts the element in given position\n",
        "print(x)\n",
        "\n",
        "x.append(\"mazda\")#it will append the element at last\n",
        "print(x)\n",
        "\n",
        "y=x.pop(2)#it will pop that element out at given index and remove from that list If no index is specified\n",
        "print(\"popped \"+str(y))\n",
        "print(x)\n",
        "\n",
        "x.remove(\"bmw\")#it will remove the given elment from the list\n",
        "print(x)\n",
        "\n",
        "list_one = [1, 2, 3, 4, 5, 6, 7]  # This is the first list\n",
        "list_two = [10, 12, 14]           # This is the second list\n",
        "list_one.extend(list_two)         # Extend list_one by appending all items of list_two\n",
        "print(list_one)\n",
        "\n",
        "my_list = [\"zero\", \"one\", \"two\", \"three\", \"four\", \"five\"]        # Create a list\n",
        "my_list.reverse()                                                # Reverse the items of the list in place\n",
        "print(\"Reversed list\\n\"+str(my_list))\n",
        "\n",
        "my_list.sort(reverse=True)                             #it will sort list in descending order\n",
        "print(my_list)\n",
        "\n",
        "my_list.sort()                             #it will sort list in ascending order\n",
        "print(my_list)\n",
        "\n",
        "my_list = ['two', 5, 'one', 2]                #Counting number of elements in list \n",
        "print(len(my_list))\n",
        "\n",
        "\n",
        "my_list = [5, 3, 6, 1, 2, 4, 7]           # Create a list\n",
        "sorted(my_list, reverse=True)             # Sorted the items of the list temporarily\n",
        "print(\"Sorted list\\n\"+str(my_list))"
      ],
      "metadata": {
        "colab": {
          "base_uri": "https://localhost:8080/"
        },
        "id": "i9NNPAkYnslO",
        "outputId": "aa7a8b89-3fab-4b62-8d64-e558a0a8026f"
      },
      "execution_count": 4,
      "outputs": [
        {
          "output_type": "stream",
          "name": "stdout",
          "text": [
            "['cat', 2.5, 500, 'bmw']\n",
            "['cat', 'dog', 500, 'bmw']\n",
            "['honda', 'suzuki']\n",
            "['cat', 'dog', 2.5, 500, 'bmw']\n",
            "['cat', 'dog', 2.5, 500, 'bmw', 'mazda']\n",
            "popped 2.5\n",
            "['cat', 'dog', 500, 'bmw', 'mazda']\n",
            "['cat', 'dog', 500, 'mazda']\n",
            "[1, 2, 3, 4, 5, 6, 7, 10, 12, 14]\n",
            "Reversed list\n",
            "['five', 'four', 'three', 'two', 'one', 'zero']\n",
            "['zero', 'two', 'three', 'one', 'four', 'five']\n",
            "['five', 'four', 'one', 'three', 'two', 'zero']\n",
            "4\n",
            "Sorted list\n",
            "[5, 3, 6, 1, 2, 4, 7]\n"
          ]
        }
      ]
    },
    {
      "cell_type": "code",
      "source": [
        "#Intentional error\n",
        "num = [\"zero\", \"one\", \"two\", \"three\", \"four\", \"five\"] \n",
        "del num [6]        \n",
        "num[:]\n"
      ],
      "metadata": {
        "id": "20074fSEuhEa",
        "colab": {
          "base_uri": "https://localhost:8080/",
          "height": 217
        },
        "outputId": "e8ed6f21-9566-489f-c6b4-5f22ddadad19"
      },
      "execution_count": 113,
      "outputs": [
        {
          "output_type": "error",
          "ename": "IndexError",
          "evalue": "ignored",
          "traceback": [
            "\u001b[0;31m---------------------------------------------------------------------------\u001b[0m",
            "\u001b[0;31mIndexError\u001b[0m                                Traceback (most recent call last)",
            "\u001b[0;32m<ipython-input-113-748d0dd2cbf7>\u001b[0m in \u001b[0;36m<module>\u001b[0;34m()\u001b[0m\n\u001b[1;32m      1\u001b[0m \u001b[0;31m#Intentional error\u001b[0m\u001b[0;34m\u001b[0m\u001b[0;34m\u001b[0m\u001b[0;34m\u001b[0m\u001b[0m\n\u001b[1;32m      2\u001b[0m \u001b[0mnum\u001b[0m \u001b[0;34m=\u001b[0m \u001b[0;34m[\u001b[0m\u001b[0;34m\"zero\"\u001b[0m\u001b[0;34m,\u001b[0m \u001b[0;34m\"one\"\u001b[0m\u001b[0;34m,\u001b[0m \u001b[0;34m\"two\"\u001b[0m\u001b[0;34m,\u001b[0m \u001b[0;34m\"three\"\u001b[0m\u001b[0;34m,\u001b[0m \u001b[0;34m\"four\"\u001b[0m\u001b[0;34m,\u001b[0m \u001b[0;34m\"five\"\u001b[0m\u001b[0;34m]\u001b[0m\u001b[0;34m\u001b[0m\u001b[0;34m\u001b[0m\u001b[0m\n\u001b[0;32m----> 3\u001b[0;31m \u001b[0;32mdel\u001b[0m \u001b[0mnum\u001b[0m \u001b[0;34m[\u001b[0m\u001b[0;36m6\u001b[0m\u001b[0;34m]\u001b[0m\u001b[0;34m\u001b[0m\u001b[0;34m\u001b[0m\u001b[0m\n\u001b[0m\u001b[1;32m      4\u001b[0m \u001b[0mnum\u001b[0m\u001b[0;34m[\u001b[0m\u001b[0;34m:\u001b[0m\u001b[0;34m]\u001b[0m\u001b[0;34m\u001b[0m\u001b[0;34m\u001b[0m\u001b[0m\n",
            "\u001b[0;31mIndexError\u001b[0m: list assignment index out of range"
          ]
        }
      ]
    },
    {
      "cell_type": "code",
      "source": [
        "#Correction of error\n",
        "num = [\"zero\", \"one\", \"two\", \"three\", \"four\", \"five\"] \n",
        "del num [5]        \n",
        "num[:]"
      ],
      "metadata": {
        "colab": {
          "base_uri": "https://localhost:8080/"
        },
        "id": "zhDi-umF7Apj",
        "outputId": "e68b1822-9f9d-443c-f58d-a2d6ea7103ec"
      },
      "execution_count": 114,
      "outputs": [
        {
          "output_type": "execute_result",
          "data": {
            "text/plain": [
              "['zero', 'one', 'two', 'three', 'four']"
            ]
          },
          "metadata": {},
          "execution_count": 114
        }
      ]
    },
    {
      "cell_type": "code",
      "source": [
        "#Task related to string input\n",
        "name=input(print(\"Enter a string: \"))  #Taking string input.\n",
        "print(\"Hello \"+name+\"!\")  #Concatenation using \"+\".\n",
        "\n",
        "\n",
        "\n"
      ],
      "metadata": {
        "colab": {
          "base_uri": "https://localhost:8080/"
        },
        "id": "3W8wBAC1IkXn",
        "outputId": "fe702a7d-44b8-4a25-de03-3905946b0aea"
      },
      "execution_count": 83,
      "outputs": [
        {
          "output_type": "stream",
          "name": "stdout",
          "text": [
            "Enter a string: \n",
            "Adnan\n",
            "Hello Adnan!\n"
          ]
        }
      ]
    },
    {
      "cell_type": "code",
      "source": [
        "str1=\"bum\"\n",
        "str2=\"chiki\"\n",
        "print(str1+str2*2+str1)"
      ],
      "metadata": {
        "colab": {
          "base_uri": "https://localhost:8080/"
        },
        "id": "wfDUnh1POwQD",
        "outputId": "073e1415-b04a-43af-c7b7-1e681f7c0268"
      },
      "execution_count": 82,
      "outputs": [
        {
          "output_type": "stream",
          "name": "stdout",
          "text": [
            "bumchikichikibum\n"
          ]
        }
      ]
    },
    {
      "cell_type": "code",
      "source": [
        "str1=input(\"Enter a string: \")\n",
        "if len(str1)>=2:  #Checking if string's length is less than 2.\n",
        "  print(str1[-2:]*3)  #Slicing string using indexes.\n",
        "else:\n",
        "  print (\"string's length is less than 2\")"
      ],
      "metadata": {
        "colab": {
          "base_uri": "https://localhost:8080/"
        },
        "id": "LzoBmwkGOxrK",
        "outputId": "6a57e6b4-0c75-4d7d-ddba-ed4f65b93704"
      },
      "execution_count": 84,
      "outputs": [
        {
          "output_type": "stream",
          "name": "stdout",
          "text": [
            "Enter a string: aslam\n",
            "amamam\n"
          ]
        }
      ]
    },
    {
      "cell_type": "code",
      "source": [
        "str1=input(\"Enter a string: \")\n",
        "print(str1.replace(\" \",\"\"))  #Replacing whitespaces using replace function."
      ],
      "metadata": {
        "colab": {
          "base_uri": "https://localhost:8080/"
        },
        "id": "ZYgF93YmP5T6",
        "outputId": "018bfddd-8ce4-4918-ca61-87c0e2bf06b7"
      },
      "execution_count": 81,
      "outputs": [
        {
          "output_type": "stream",
          "name": "stdout",
          "text": [
            "Enter a string: hello sir \n",
            "hellosir\n"
          ]
        }
      ]
    },
    {
      "cell_type": "code",
      "source": [
        "str1=input(\"Enter a string: \")\n",
        "if len(str1)>=2:\n",
        "  print(str1[0:2])\n",
        "elif len(str1)<2:\n",
        "  print(str1)\n",
        "else:\n",
        "  print(\"\")"
      ],
      "metadata": {
        "colab": {
          "base_uri": "https://localhost:8080/"
        },
        "id": "EQE4uwwGSPyw",
        "outputId": "288675ee-a0ae-41eb-f9c9-8f9fc5425f6f"
      },
      "execution_count": 85,
      "outputs": [
        {
          "output_type": "stream",
          "name": "stdout",
          "text": [
            "Enter a string: boom\n",
            "bo\n"
          ]
        }
      ]
    },
    {
      "cell_type": "code",
      "source": [
        "str1=input(\"Enter a string: \")\n",
        "if len(str1)%2==0:  #Checking if lenght of string is an even number.\n",
        "  str2=str1[:int(len(str1)/2)]  #Saving first half of string using slicing.\n",
        "  print(str2)\n",
        "else:\n",
        "  print (\"string's length is an odd number\")"
      ],
      "metadata": {
        "colab": {
          "base_uri": "https://localhost:8080/"
        },
        "id": "rLklt0CaYMaW",
        "outputId": "c501cbe8-e774-4353-efe4-b6c897f7d72b"
      },
      "execution_count": 108,
      "outputs": [
        {
          "output_type": "stream",
          "name": "stdout",
          "text": [
            "Enter a string: HelloAslam\n",
            "Hello\n"
          ]
        }
      ]
    },
    {
      "cell_type": "code",
      "source": [
        "str1=input(\"Enter a string: \")\n",
        "if len(str1)>=2:  \n",
        "  print(str1[1:-1])  #Printing string except first and last letter using slicing.\n",
        "else:\n",
        "  print (\"string's length is less than 2\")"
      ],
      "metadata": {
        "colab": {
          "base_uri": "https://localhost:8080/"
        },
        "id": "zfNp8hE8d9Uv",
        "outputId": "5ad3e2ad-a21e-4248-fb98-101b36557f79"
      },
      "execution_count": 88,
      "outputs": [
        {
          "output_type": "stream",
          "name": "stdout",
          "text": [
            "Enter a string: inzamam\n",
            "nzama\n"
          ]
        }
      ]
    },
    {
      "cell_type": "code",
      "source": [
        "str1=input(\"Enter first string: \")\n",
        "str2=input(\"Enter second string: \")\n",
        "print(str1[1:]+str2[1:])\n"
      ],
      "metadata": {
        "colab": {
          "base_uri": "https://localhost:8080/"
        },
        "id": "pKVtHOXHega-",
        "outputId": "f41d4846-ae85-4d73-b814-24b659ac4f4b"
      },
      "execution_count": 93,
      "outputs": [
        {
          "output_type": "stream",
          "name": "stdout",
          "text": [
            "Enter first string: shot\n",
            "Enter second string: spot\n",
            "hotpot\n"
          ]
        }
      ]
    },
    {
      "cell_type": "code",
      "source": [
        "import math \n",
        "a=int(input(\"Enter value for \\\"a\\\"= \"))\n",
        "b=int(input(\"Enter value for \\\"b\\\"= \"))\n",
        "c=int(input(\"Enter value for \\\"c\\\"= \"))\n",
        "s1=math.pow(b,2)\n",
        "s2=4*a*c\n",
        "s3=2*a\n",
        "x1=(-b+math.sqrt(s1-s2))/s3\n",
        "x2=(-b-math.sqrt(s1-s2))/s3\n",
        "print (\"first value=\",x1)\n",
        "print (\"second value=\",x2)"
      ],
      "metadata": {
        "colab": {
          "base_uri": "https://localhost:8080/"
        },
        "id": "beP3uA6rhl7P",
        "outputId": "163a9a46-a054-4e5e-cf91-3f0ee8459594"
      },
      "execution_count": 110,
      "outputs": [
        {
          "output_type": "stream",
          "name": "stdout",
          "text": [
            "Enter value for \"a\"= 2\n",
            "Enter value for \"b\"= 7\n",
            "Enter value for \"c\"= 3\n",
            "first value= -0.5\n",
            "second value= -3.0\n"
          ]
        }
      ]
    },
    {
      "cell_type": "code",
      "source": [
        "import math\n",
        "x=int(input(\"Enter value for \\\"x\\\"= \"))\n",
        "s1=x+(1/x)\n",
        "s2=x-(1/x)\n",
        "x=math.sqrt(math.pow(s1,2)-4*s2)\n",
        "print (\"Answer=\",x)\n"
      ],
      "metadata": {
        "colab": {
          "base_uri": "https://localhost:8080/"
        },
        "id": "dFYximccn5yc",
        "outputId": "49402adc-9cea-4c84-881e-37a17d405839"
      },
      "execution_count": 111,
      "outputs": [
        {
          "output_type": "stream",
          "name": "stdout",
          "text": [
            "Enter value for \"x\"= 2\n",
            "Answer= 0.5\n"
          ]
        }
      ]
    }
  ]
}